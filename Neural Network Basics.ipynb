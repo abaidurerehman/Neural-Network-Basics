{
 "cells": [
  {
   "cell_type": "code",
   "execution_count": 1,
   "id": "45d3cb3a-0a97-4d06-8f32-b8299d3fe84d",
   "metadata": {},
   "outputs": [
    {
     "name": "stdout",
     "output_type": "stream",
     "text": [
      "Requirement already satisfied: flask in e:\\anaconda3\\envs\\tf_env\\lib\\site-packages (3.1.0)\n",
      "Requirement already satisfied: tensorflow in e:\\anaconda3\\envs\\tf_env\\lib\\site-packages (2.19.0)\n",
      "Requirement already satisfied: pillow in e:\\anaconda3\\envs\\tf_env\\lib\\site-packages (11.1.0)\n",
      "Requirement already satisfied: numpy in e:\\anaconda3\\envs\\tf_env\\lib\\site-packages (2.1.3)\n",
      "Requirement already satisfied: werkzeug in e:\\anaconda3\\envs\\tf_env\\lib\\site-packages (3.1.3)\n",
      "Requirement already satisfied: Jinja2>=3.1.2 in e:\\anaconda3\\envs\\tf_env\\lib\\site-packages (from flask) (3.1.6)\n",
      "Requirement already satisfied: itsdangerous>=2.2 in e:\\anaconda3\\envs\\tf_env\\lib\\site-packages (from flask) (2.2.0)\n",
      "Requirement already satisfied: click>=8.1.3 in e:\\anaconda3\\envs\\tf_env\\lib\\site-packages (from flask) (8.1.8)\n",
      "Requirement already satisfied: blinker>=1.9 in e:\\anaconda3\\envs\\tf_env\\lib\\site-packages (from flask) (1.9.0)\n",
      "Requirement already satisfied: absl-py>=1.0.0 in e:\\anaconda3\\envs\\tf_env\\lib\\site-packages (from tensorflow) (2.2.1)\n",
      "Requirement already satisfied: astunparse>=1.6.0 in e:\\anaconda3\\envs\\tf_env\\lib\\site-packages (from tensorflow) (1.6.3)\n",
      "Requirement already satisfied: flatbuffers>=24.3.25 in e:\\anaconda3\\envs\\tf_env\\lib\\site-packages (from tensorflow) (25.2.10)\n",
      "Requirement already satisfied: gast!=0.5.0,!=0.5.1,!=0.5.2,>=0.2.1 in e:\\anaconda3\\envs\\tf_env\\lib\\site-packages (from tensorflow) (0.6.0)\n",
      "Requirement already satisfied: google-pasta>=0.1.1 in e:\\anaconda3\\envs\\tf_env\\lib\\site-packages (from tensorflow) (0.2.0)\n",
      "Requirement already satisfied: libclang>=13.0.0 in e:\\anaconda3\\envs\\tf_env\\lib\\site-packages (from tensorflow) (18.1.1)\n",
      "Requirement already satisfied: opt-einsum>=2.3.2 in e:\\anaconda3\\envs\\tf_env\\lib\\site-packages (from tensorflow) (3.4.0)\n",
      "Requirement already satisfied: packaging in e:\\anaconda3\\envs\\tf_env\\lib\\site-packages (from tensorflow) (24.2)\n",
      "Requirement already satisfied: protobuf!=4.21.0,!=4.21.1,!=4.21.2,!=4.21.3,!=4.21.4,!=4.21.5,<6.0.0dev,>=3.20.3 in e:\\anaconda3\\envs\\tf_env\\lib\\site-packages (from tensorflow) (5.29.4)\n",
      "Requirement already satisfied: requests<3,>=2.21.0 in e:\\anaconda3\\envs\\tf_env\\lib\\site-packages (from tensorflow) (2.32.3)\n",
      "Requirement already satisfied: setuptools in e:\\anaconda3\\envs\\tf_env\\lib\\site-packages (from tensorflow) (75.8.0)\n",
      "Requirement already satisfied: six>=1.12.0 in e:\\anaconda3\\envs\\tf_env\\lib\\site-packages (from tensorflow) (1.17.0)\n",
      "Requirement already satisfied: termcolor>=1.1.0 in e:\\anaconda3\\envs\\tf_env\\lib\\site-packages (from tensorflow) (2.5.0)\n",
      "Requirement already satisfied: typing-extensions>=3.6.6 in e:\\anaconda3\\envs\\tf_env\\lib\\site-packages (from tensorflow) (4.13.0)\n",
      "Requirement already satisfied: wrapt>=1.11.0 in e:\\anaconda3\\envs\\tf_env\\lib\\site-packages (from tensorflow) (1.17.2)\n",
      "Requirement already satisfied: grpcio<2.0,>=1.24.3 in e:\\anaconda3\\envs\\tf_env\\lib\\site-packages (from tensorflow) (1.71.0)\n",
      "Requirement already satisfied: tensorboard~=2.19.0 in e:\\anaconda3\\envs\\tf_env\\lib\\site-packages (from tensorflow) (2.19.0)\n",
      "Requirement already satisfied: keras>=3.5.0 in e:\\anaconda3\\envs\\tf_env\\lib\\site-packages (from tensorflow) (3.9.1)\n",
      "Requirement already satisfied: h5py>=3.11.0 in e:\\anaconda3\\envs\\tf_env\\lib\\site-packages (from tensorflow) (3.13.0)\n",
      "Requirement already satisfied: ml-dtypes<1.0.0,>=0.5.1 in e:\\anaconda3\\envs\\tf_env\\lib\\site-packages (from tensorflow) (0.5.1)\n",
      "Requirement already satisfied: tensorflow-io-gcs-filesystem>=0.23.1 in e:\\anaconda3\\envs\\tf_env\\lib\\site-packages (from tensorflow) (0.31.0)\n",
      "Requirement already satisfied: MarkupSafe>=2.1.1 in e:\\anaconda3\\envs\\tf_env\\lib\\site-packages (from werkzeug) (3.0.2)\n",
      "Requirement already satisfied: wheel<1.0,>=0.23.0 in e:\\anaconda3\\envs\\tf_env\\lib\\site-packages (from astunparse>=1.6.0->tensorflow) (0.45.1)\n",
      "Requirement already satisfied: colorama in e:\\anaconda3\\envs\\tf_env\\lib\\site-packages (from click>=8.1.3->flask) (0.4.6)\n",
      "Requirement already satisfied: rich in e:\\anaconda3\\envs\\tf_env\\lib\\site-packages (from keras>=3.5.0->tensorflow) (13.9.4)\n",
      "Requirement already satisfied: namex in e:\\anaconda3\\envs\\tf_env\\lib\\site-packages (from keras>=3.5.0->tensorflow) (0.0.8)\n",
      "Requirement already satisfied: optree in e:\\anaconda3\\envs\\tf_env\\lib\\site-packages (from keras>=3.5.0->tensorflow) (0.14.1)\n",
      "Requirement already satisfied: charset-normalizer<4,>=2 in e:\\anaconda3\\envs\\tf_env\\lib\\site-packages (from requests<3,>=2.21.0->tensorflow) (3.4.1)\n",
      "Requirement already satisfied: idna<4,>=2.5 in e:\\anaconda3\\envs\\tf_env\\lib\\site-packages (from requests<3,>=2.21.0->tensorflow) (3.10)\n",
      "Requirement already satisfied: urllib3<3,>=1.21.1 in e:\\anaconda3\\envs\\tf_env\\lib\\site-packages (from requests<3,>=2.21.0->tensorflow) (2.3.0)\n",
      "Requirement already satisfied: certifi>=2017.4.17 in e:\\anaconda3\\envs\\tf_env\\lib\\site-packages (from requests<3,>=2.21.0->tensorflow) (2025.1.31)\n",
      "Requirement already satisfied: markdown>=2.6.8 in e:\\anaconda3\\envs\\tf_env\\lib\\site-packages (from tensorboard~=2.19.0->tensorflow) (3.7)\n",
      "Requirement already satisfied: tensorboard-data-server<0.8.0,>=0.7.0 in e:\\anaconda3\\envs\\tf_env\\lib\\site-packages (from tensorboard~=2.19.0->tensorflow) (0.7.2)\n",
      "Requirement already satisfied: markdown-it-py>=2.2.0 in e:\\anaconda3\\envs\\tf_env\\lib\\site-packages (from rich->keras>=3.5.0->tensorflow) (3.0.0)\n",
      "Requirement already satisfied: pygments<3.0.0,>=2.13.0 in e:\\anaconda3\\envs\\tf_env\\lib\\site-packages (from rich->keras>=3.5.0->tensorflow) (2.19.1)\n",
      "Requirement already satisfied: mdurl~=0.1 in e:\\anaconda3\\envs\\tf_env\\lib\\site-packages (from markdown-it-py>=2.2.0->rich->keras>=3.5.0->tensorflow) (0.1.2)\n",
      "Note: you may need to restart the kernel to use updated packages.\n"
     ]
    }
   ],
   "source": [
    "pip install flask tensorflow pillow numpy werkzeug\n"
   ]
  },
  {
   "cell_type": "code",
   "execution_count": 2,
   "id": "a1be7657-aa95-4657-b6f5-a1e36fa6d110",
   "metadata": {},
   "outputs": [],
   "source": [
    "import os\n",
    "\n",
    "os.makedirs(\"templates\", exist_ok=True)\n",
    "os.makedirs(\"static/uploads\", exist_ok=True)  # Also create the uploads folder\n"
   ]
  },
  {
   "cell_type": "code",
   "execution_count": 3,
   "id": "b7c6f6f9-7afa-4830-b57c-562c92ce5e9a",
   "metadata": {},
   "outputs": [
    {
     "name": "stderr",
     "output_type": "stream",
     "text": [
      "E:\\Anaconda3\\envs\\tf_env\\lib\\site-packages\\keras\\src\\layers\\convolutional\\base_conv.py:107: UserWarning: Do not pass an `input_shape`/`input_dim` argument to a layer. When using Sequential models, prefer using an `Input(shape)` object as the first layer in the model instead.\n",
      "  super().__init__(activity_regularizer=activity_regularizer, **kwargs)\n"
     ]
    },
    {
     "name": "stdout",
     "output_type": "stream",
     "text": [
      "Epoch 1/10\n"
     ]
    },
    {
     "name": "stderr",
     "output_type": "stream",
     "text": [
      "E:\\Anaconda3\\envs\\tf_env\\lib\\site-packages\\keras\\src\\trainers\\data_adapters\\py_dataset_adapter.py:121: UserWarning: Your `PyDataset` class should call `super().__init__(**kwargs)` in its constructor. `**kwargs` can include `workers`, `use_multiprocessing`, `max_queue_size`. Do not pass these arguments to `fit()`, as they will be ignored.\n",
      "  self._warn_if_super_not_called()\n"
     ]
    },
    {
     "name": "stdout",
     "output_type": "stream",
     "text": [
      "\u001b[1m1875/1875\u001b[0m \u001b[32m━━━━━━━━━━━━━━━━━━━━\u001b[0m\u001b[37m\u001b[0m \u001b[1m81s\u001b[0m 42ms/step - accuracy: 0.7127 - loss: 0.8607 - val_accuracy: 0.9692 - val_loss: 0.0975\n",
      "Epoch 2/10\n",
      "\u001b[1m1875/1875\u001b[0m \u001b[32m━━━━━━━━━━━━━━━━━━━━\u001b[0m\u001b[37m\u001b[0m \u001b[1m58s\u001b[0m 31ms/step - accuracy: 0.9365 - loss: 0.2051 - val_accuracy: 0.9586 - val_loss: 0.1272\n",
      "Epoch 3/10\n",
      "\u001b[1m1875/1875\u001b[0m \u001b[32m━━━━━━━━━━━━━━━━━━━━\u001b[0m\u001b[37m\u001b[0m \u001b[1m59s\u001b[0m 31ms/step - accuracy: 0.9513 - loss: 0.1518 - val_accuracy: 0.9826 - val_loss: 0.0532\n",
      "Epoch 4/10\n",
      "\u001b[1m1875/1875\u001b[0m \u001b[32m━━━━━━━━━━━━━━━━━━━━\u001b[0m\u001b[37m\u001b[0m \u001b[1m58s\u001b[0m 31ms/step - accuracy: 0.9613 - loss: 0.1227 - val_accuracy: 0.9866 - val_loss: 0.0432\n",
      "Epoch 5/10\n",
      "\u001b[1m1875/1875\u001b[0m \u001b[32m━━━━━━━━━━━━━━━━━━━━\u001b[0m\u001b[37m\u001b[0m \u001b[1m59s\u001b[0m 32ms/step - accuracy: 0.9662 - loss: 0.1106 - val_accuracy: 0.9849 - val_loss: 0.0468\n",
      "Epoch 6/10\n",
      "\u001b[1m1875/1875\u001b[0m \u001b[32m━━━━━━━━━━━━━━━━━━━━\u001b[0m\u001b[37m\u001b[0m \u001b[1m60s\u001b[0m 32ms/step - accuracy: 0.9704 - loss: 0.0951 - val_accuracy: 0.9882 - val_loss: 0.0353\n",
      "Epoch 7/10\n",
      "\u001b[1m1875/1875\u001b[0m \u001b[32m━━━━━━━━━━━━━━━━━━━━\u001b[0m\u001b[37m\u001b[0m \u001b[1m61s\u001b[0m 33ms/step - accuracy: 0.9717 - loss: 0.0923 - val_accuracy: 0.9895 - val_loss: 0.0321\n",
      "Epoch 8/10\n",
      "\u001b[1m1875/1875\u001b[0m \u001b[32m━━━━━━━━━━━━━━━━━━━━\u001b[0m\u001b[37m\u001b[0m \u001b[1m59s\u001b[0m 31ms/step - accuracy: 0.9751 - loss: 0.0855 - val_accuracy: 0.9898 - val_loss: 0.0312\n",
      "Epoch 9/10\n",
      "\u001b[1m1875/1875\u001b[0m \u001b[32m━━━━━━━━━━━━━━━━━━━━\u001b[0m\u001b[37m\u001b[0m \u001b[1m59s\u001b[0m 31ms/step - accuracy: 0.9752 - loss: 0.0788 - val_accuracy: 0.9885 - val_loss: 0.0305\n",
      "Epoch 10/10\n",
      "\u001b[1m1875/1875\u001b[0m \u001b[32m━━━━━━━━━━━━━━━━━━━━\u001b[0m\u001b[37m\u001b[0m \u001b[1m59s\u001b[0m 32ms/step - accuracy: 0.9775 - loss: 0.0754 - val_accuracy: 0.9903 - val_loss: 0.0284\n",
      "313/313 - 2s - 5ms/step - accuracy: 0.9903 - loss: 0.0284\n"
     ]
    },
    {
     "name": "stderr",
     "output_type": "stream",
     "text": [
      "WARNING:absl:You are saving your model as an HDF5 file via `model.save()` or `keras.saving.save_model(model)`. This file format is considered legacy. We recommend using instead the native Keras format, e.g. `model.save('my_model.keras')` or `keras.saving.save_model(model, 'my_model.keras')`. \n"
     ]
    },
    {
     "name": "stdout",
     "output_type": "stream",
     "text": [
      "Test Accuracy: 0.9903\n",
      "Model saved as digit_model.h5\n"
     ]
    }
   ],
   "source": [
    "# %%writefile train_model.py\n",
    "import tensorflow as tf\n",
    "from tensorflow import keras\n",
    "from tensorflow.keras.preprocessing.image import ImageDataGenerator\n",
    "import numpy as np\n",
    "\n",
    "# Load MNIST dataset\n",
    "(x_train, y_train), (x_test, y_test) = keras.datasets.mnist.load_data()\n",
    "\n",
    "# Normalize pixel values (0 to 1)\n",
    "x_train, x_test = x_train / 255.0, x_test / 255.0\n",
    "\n",
    "# Expand dimensions for CNN (Batch, Height, Width, Channels)\n",
    "x_train = np.expand_dims(x_train, axis=-1)\n",
    "x_test = np.expand_dims(x_test, axis=-1)\n",
    "\n",
    "# Apply data augmentation (only on training data)\n",
    "datagen = ImageDataGenerator(\n",
    "    rotation_range=15,\n",
    "    zoom_range=0.2,\n",
    "    width_shift_range=0.2,\n",
    "    height_shift_range=0.2\n",
    ")\n",
    "datagen.fit(x_train)\n",
    "\n",
    "# Define the CNN model\n",
    "model = keras.Sequential([\n",
    "    keras.layers.Conv2D(32, (3,3), activation='relu', input_shape=(28, 28, 1)),\n",
    "    keras.layers.MaxPooling2D(2,2),\n",
    "    keras.layers.Conv2D(64, (3,3), activation='relu'),\n",
    "    keras.layers.MaxPooling2D(2,2),\n",
    "    keras.layers.Flatten(),\n",
    "    keras.layers.Dense(128, activation='relu'),\n",
    "    keras.layers.Dense(10, activation='softmax')\n",
    "])\n",
    "\n",
    "# Compile the model\n",
    "model.compile(optimizer='adam', loss='sparse_categorical_crossentropy', metrics=['accuracy'])\n",
    "\n",
    "# Train the model using augmented data\n",
    "model.fit(datagen.flow(x_train, y_train, batch_size=32), validation_data=(x_test, y_test), epochs=10)\n",
    "\n",
    "# Evaluate accuracy\n",
    "test_loss, test_acc = model.evaluate(x_test, y_test, verbose=2)\n",
    "print(f\"Test Accuracy: {test_acc:.4f}\")\n",
    "\n",
    "# Save the trained model\n",
    "model.save(\"digit_model.h5\")\n",
    "print(\"Model saved as digit_model.h5\")\n"
   ]
  },
  {
   "cell_type": "code",
   "execution_count": 4,
   "id": "6496875a-0080-4384-957f-8bbabc509f72",
   "metadata": {},
   "outputs": [
    {
     "name": "stdout",
     "output_type": "stream",
     "text": [
      "True\n"
     ]
    }
   ],
   "source": [
    "import os\n",
    "print(os.path.exists(\"digit_model.h5\"))  # Should print True if the model is saved\n"
   ]
  },
  {
   "cell_type": "code",
   "execution_count": 5,
   "id": "6487b732-d8cd-41a8-b9f8-2ada3eab8df1",
   "metadata": {},
   "outputs": [
    {
     "name": "stderr",
     "output_type": "stream",
     "text": [
      "WARNING:absl:Compiled the loaded model, but the compiled metrics have yet to be built. `model.compile_metrics` will be empty until you train or evaluate the model.\n"
     ]
    },
    {
     "name": "stdout",
     "output_type": "stream",
     "text": [
      " * Serving Flask app '__main__'\n",
      " * Debug mode: on\n"
     ]
    },
    {
     "name": "stderr",
     "output_type": "stream",
     "text": [
      "INFO:werkzeug:\u001b[31m\u001b[1mWARNING: This is a development server. Do not use it in a production deployment. Use a production WSGI server instead.\u001b[0m\n",
      " * Running on http://127.0.0.1:5000\n",
      "INFO:werkzeug:\u001b[33mPress CTRL+C to quit\u001b[0m\n",
      "INFO:werkzeug: * Restarting with stat\n"
     ]
    },
    {
     "ename": "SystemExit",
     "evalue": "1",
     "output_type": "error",
     "traceback": [
      "An exception has occurred, use %tb to see the full traceback.\n",
      "\u001b[1;31mSystemExit\u001b[0m\u001b[1;31m:\u001b[0m 1\n"
     ]
    },
    {
     "name": "stderr",
     "output_type": "stream",
     "text": [
      "E:\\Anaconda3\\envs\\tf_env\\lib\\site-packages\\IPython\\core\\interactiveshell.py:3587: UserWarning: To exit: use 'exit', 'quit', or Ctrl-D.\n",
      "  warn(\"To exit: use 'exit', 'quit', or Ctrl-D.\", stacklevel=1)\n"
     ]
    }
   ],
   "source": [
    "# %%writefile app.py\n",
    "from flask import Flask, render_template, request\n",
    "import numpy as np\n",
    "import tensorflow as tf\n",
    "import cv2\n",
    "import os\n",
    "\n",
    "app = Flask(__name__)\n",
    "\n",
    "# Load the trained model\n",
    "model = tf.keras.models.load_model(\"digit_model.h5\")\n",
    "\n",
    "# Ensure upload folder exists\n",
    "UPLOAD_FOLDER = \"static/uploads\"\n",
    "os.makedirs(UPLOAD_FOLDER, exist_ok=True)\n",
    "app.config[\"UPLOAD_FOLDER\"] = UPLOAD_FOLDER\n",
    "\n",
    "def preprocess_image(image_path):\n",
    "    \"\"\"Preprocess the image for model prediction.\"\"\"\n",
    "    img = cv2.imread(image_path, cv2.IMREAD_GRAYSCALE)  # Read as grayscale\n",
    "    \n",
    "    # Ensure image is correctly oriented\n",
    "    if np.mean(img) > 127:\n",
    "        img = cv2.bitwise_not(img)  # Invert colors if needed\n",
    "\n",
    "    # Resize to 28x28 and normalize\n",
    "    img = cv2.resize(img, (28, 28), interpolation=cv2.INTER_AREA)\n",
    "    img = img / 255.0  # Normalize to [0,1]\n",
    "    \n",
    "    # Expand dimensions for CNN (Batch, Height, Width, Channels)\n",
    "    img = np.expand_dims(img, axis=(0, -1))\n",
    "\n",
    "    return img\n",
    "\n",
    "@app.route(\"/\", methods=[\"GET\", \"POST\"])\n",
    "def index():\n",
    "    digit = None\n",
    "    filename = None\n",
    "\n",
    "    if request.method == \"POST\":\n",
    "        file = request.files[\"file\"]\n",
    "        if file:\n",
    "            filename = file.filename\n",
    "            filepath = os.path.join(app.config[\"UPLOAD_FOLDER\"], filename)\n",
    "            file.save(filepath)\n",
    "\n",
    "            # Preprocess the image\n",
    "            processed_img = preprocess_image(filepath)\n",
    "            \n",
    "            # Predict using the model\n",
    "            prediction = model.predict(processed_img)\n",
    "            digit = np.argmax(prediction)\n",
    "\n",
    "    return render_template(\"index.html\", filename=filename, digit=digit)\n",
    "\n",
    "if __name__ == \"__main__\":\n",
    "    app.run(debug=True)\n"
   ]
  },
  {
   "cell_type": "code",
   "execution_count": 2,
   "id": "9c15c509-34ac-4f95-94bb-3aea753467e9",
   "metadata": {},
   "outputs": [
    {
     "name": "stdout",
     "output_type": "stream",
     "text": [
      "Overwriting templates/index.html\n"
     ]
    }
   ],
   "source": [
    "%%writefile templates/index.html\n",
    "<!DOCTYPE html>\n",
    "<html lang=\"en\">\n",
    "<head>\n",
    "    <meta charset=\"UTF-8\">\n",
    "    <meta name=\"viewport\" content=\"width=device-width, initial-scale=1.0\">\n",
    "    <title>Neural Network Digit Recognizer</title>\n",
    "    <style>\n",
    "        * {\n",
    "            margin: 0;\n",
    "            padding: 0;\n",
    "            box-sizing: border-box;\n",
    "            font-family: 'Poppins', sans-serif;\n",
    "        }\n",
    "\n",
    "        body {\n",
    "            display: flex;\n",
    "            justify-content: center;\n",
    "            align-items: center;\n",
    "            height: 100vh;\n",
    "            background: black;\n",
    "            overflow: hidden;\n",
    "            color: white;\n",
    "        }\n",
    "\n",
    "        /* Starry Animated Background */\n",
    "        .stars {\n",
    "            position: fixed;\n",
    "            width: 100%;\n",
    "            height: 100%;\n",
    "            background: url('https://i.imgur.com/Vy7yEhp.png');\n",
    "            animation: animateStars 50s linear infinite;\n",
    "        }\n",
    "\n",
    "        @keyframes animateStars {\n",
    "            from { background-position: 0 0; }\n",
    "            to { background-position: -10000px 5000px; }\n",
    "        }\n",
    "\n",
    "        .container {\n",
    "            position: relative;\n",
    "            background: rgba(255, 255, 255, 0.1);\n",
    "            padding: 30px;\n",
    "            border-radius: 12px;\n",
    "            backdrop-filter: blur(10px);\n",
    "            box-shadow: 0 4px 10px rgba(255, 255, 255, 0.2);\n",
    "            text-align: center;\n",
    "            z-index: 2;\n",
    "        }\n",
    "\n",
    "        h1 {\n",
    "            color: #ffcc00;\n",
    "            margin-bottom: 10px;\n",
    "            font-size: 28px;\n",
    "        }\n",
    "\n",
    "        h2 {\n",
    "            margin-bottom: 15px;\n",
    "            font-size: 24px;\n",
    "            color: #ffcc00;\n",
    "        }\n",
    "\n",
    "        input[type=\"file\"] {\n",
    "            display: none;\n",
    "        }\n",
    "\n",
    "        .custom-file-upload {\n",
    "            display: inline-block;\n",
    "            padding: 12px 24px;\n",
    "            background: linear-gradient(135deg, #ffcc00, #ff6600);\n",
    "            color: black;\n",
    "            border-radius: 8px;\n",
    "            cursor: pointer;\n",
    "            font-weight: bold;\n",
    "            transition: 0.3s;\n",
    "        }\n",
    "\n",
    "        .custom-file-upload:hover {\n",
    "            background: linear-gradient(135deg, #ff6600, #ffcc00);\n",
    "        }\n",
    "\n",
    "        .submit-btn {\n",
    "            display: block;\n",
    "            margin-top: 20px;\n",
    "            padding: 12px 24px;\n",
    "            background: linear-gradient(135deg, #00ccff, #0066ff);\n",
    "            color: white;\n",
    "            border-radius: 8px;\n",
    "            border: none;\n",
    "            cursor: pointer;\n",
    "            font-weight: bold;\n",
    "            transition: 0.3s;\n",
    "        }\n",
    "\n",
    "        .submit-btn:hover {\n",
    "            background: linear-gradient(135deg, #0066ff, #00ccff);\n",
    "        }\n",
    "\n",
    "        img {\n",
    "            margin-top: 15px;\n",
    "            width: 150px;\n",
    "            border-radius: 8px;\n",
    "            border: 2px solid white;\n",
    "        }\n",
    "    </style>\n",
    "</head>\n",
    "<body>\n",
    "    <div class=\"stars\"></div>\n",
    "    <div class=\"container\">\n",
    "        <h1>Neural Network Digit Recognizer</h1>\n",
    "        <h2>Upload an Image of a Digit (PNG with Black Background)</h2>\n",
    "        <form action=\"/\" method=\"post\" enctype=\"multipart/form-data\" onsubmit=\"return validateFile()\">\n",
    "            <label class=\"custom-file-upload\">\n",
    "                <input type=\"file\" id=\"fileInput\" name=\"file\" accept=\"image/png\" required>\n",
    "                Choose Image\n",
    "            </label>\n",
    "            <input type=\"submit\" class=\"submit-btn\" value=\"Predict\">\n",
    "        </form>\n",
    "\n",
    "        <script>\n",
    "            function validateFile() {\n",
    "                const fileInput = document.getElementById('fileInput');\n",
    "                const file = fileInput.files[0];\n",
    "                \n",
    "                if (!file) {\n",
    "                    alert(\"Please upload a PNG image with a black background.\");\n",
    "                    return false;\n",
    "                }\n",
    "\n",
    "                if (file.type !== 'image/png') {\n",
    "                    alert(\"Only PNG images are allowed!\");\n",
    "                    return false;\n",
    "                }\n",
    "\n",
    "                return true;\n",
    "            }\n",
    "        </script>\n",
    "\n",
    "        {% if filename %}\n",
    "        <h3>Uploaded Image:</h3>\n",
    "        <img src=\"{{ url_for('static', filename='uploads/' + filename) }}\" alt=\"Uploaded Image\">\n",
    "        <h3>Predicted Digit: {{ digit }}</h3>\n",
    "        {% endif %}\n",
    "    </div>\n",
    "</body>\n",
    "</html>\n",
    "\n",
    "\n"
   ]
  },
  {
   "cell_type": "code",
   "execution_count": 7,
   "id": "fbb17286-cb4f-41a1-9acc-73d44ca81849",
   "metadata": {},
   "outputs": [
    {
     "name": "stdout",
     "output_type": "stream",
     "text": [
      "E:\\Anaconda3\\envs\\tf_env\\python.exe\n",
      "3.10.16 | packaged by Anaconda, Inc. | (main, Dec 11 2024, 16:19:12) [MSC v.1929 64 bit (AMD64)]\n"
     ]
    }
   ],
   "source": [
    "import sys\n",
    "print(sys.executable)\n",
    "print(sys.version)\n"
   ]
  },
  {
   "cell_type": "code",
   "execution_count": 10,
   "id": "d1281bfa-45bb-4bec-aeb3-281486ed2f8e",
   "metadata": {},
   "outputs": [],
   "source": [
    "%matplotlib inline\n"
   ]
  },
  {
   "cell_type": "code",
   "execution_count": 1,
   "id": "7f8efdc9-6451-417f-a782-0b165073d5cc",
   "metadata": {},
   "outputs": [
    {
     "data": {
      "image/png": "[encoded data removed]",
      "text/plain": [
       "<Figure size 640x480 with 1 Axes>"
      ]
     },
     "metadata": {},
     "output_type": "display_data"
    },
    {
     "data": {
      "image/png": "[encoded data removed]",
      "text/plain": [
       "<Figure size 640x480 with 1 Axes>"
      ]
     },
     "metadata": {},
     "output_type": "display_data"
    },
    {
     "data": {
      "image/png": "[encoded data removed]",
      "text/plain": [
       "<Figure size 640x480 with 1 Axes>"
      ]
     },
     "metadata": {},
     "output_type": "display_data"
    },
    {
     "data": {
      "image/png": "[encoded data removed]",
      "text/plain": [
       "<Figure size 640x480 with 1 Axes>"
      ]
     },
     "metadata": {},
     "output_type": "display_data"
    },
    {
     "data": {
      "image/png": "[encoded data removed]",
      "text/plain": [
       "<Figure size 640x480 with 1 Axes>"
      ]
     },
     "metadata": {},
     "output_type": "display_data"
    },
    {
     "data": {
      "image/png": "[encoded data removed]",
      "text/plain": [
       "<Figure size 640x480 with 1 Axes>"
      ]
     },
     "metadata": {},
     "output_type": "display_data"
    },
    {
     "data": {
      "image/png": "[encoded data removed]",
      "text/plain": [
       "<Figure size 640x480 with 1 Axes>"
      ]
     },
     "metadata": {},
     "output_type": "display_data"
    },
    {
     "data": {
      "image/png": "[encoded data removed]",
      "text/plain": [
       "<Figure size 640x480 with 1 Axes>"
      ]
     },
     "metadata": {},
     "output_type": "display_data"
    },
    {
     "data": {
      "image/png": "[encoded data removed]",
      "text/plain": [
       "<Figure size 640x480 with 1 Axes>"
      ]
     },
     "metadata": {},
     "output_type": "display_data"
    },
    {
     "data": {
      "image/png": "[encoded data removed]",
      "text/plain": [
       "<Figure size 640x480 with 1 Axes>"
      ]
     },
     "metadata": {},
     "output_type": "display_data"
    },
    {
     "data": {
      "image/png": "[encoded data removed]",
      "text/plain": [
       "<Figure size 640x480 with 1 Axes>"
      ]
     },
     "metadata": {},
     "output_type": "display_data"
    },
    {
     "data": {
      "image/png": "[encoded data removed]",
      "text/plain": [
       "<Figure size 640x480 with 1 Axes>"
      ]
     },
     "metadata": {},
     "output_type": "display_data"
    },
    {
     "data": {
      "image/png": "[encoded data removed]",
      "text/plain": [
       "<Figure size 640x480 with 1 Axes>"
      ]
     },
     "metadata": {},
     "output_type": "display_data"
    },
    {
     "data": {
      "image/png": "[encoded data removed]",
      "text/plain": [
       "<Figure size 640x480 with 1 Axes>"
      ]
     },
     "metadata": {},
     "output_type": "display_data"
    },
    {
     "data": {
      "image/png": "[encoded data removed]",
      "text/plain": [
       "<Figure size 640x480 with 1 Axes>"
      ]
     },
     "metadata": {},
     "output_type": "display_data"
    }
   ],
   "source": [
    "import matplotlib.pyplot as plt\n",
    "from tensorflow.keras.datasets import mnist\n",
    "\n",
    "# Load MNIST dataset\n",
    "(x_train, y_train), (x_test, y_test) = mnist.load_data()\n",
    "\n",
    "# Save and display a few sample images\n",
    "for i in range(15):  # Save 5 sample images\n",
    "    plt.imshow(x_test[i], cmap=\"gray\")\n",
    "    plt.axis(\"off\")\n",
    "    plt.savefig(f\"digit_{i}.png\", bbox_inches=\"tight\", pad_inches=0)\n",
    "    plt.show(block=True)  # Force display\n"
   ]
  },
  {
   "cell_type": "code",
   "execution_count": null,
   "id": "0f8c4cb8-aaee-48a1-bf93-7094f07b8a2a",
   "metadata": {},
   "outputs": [],
   "source": [
    "#Run on Anaconda Prompt By python app.py"
   ]
  }
 ],
 "metadata": {
  "kernelspec": {
   "display_name": "Python 3.10 (tf_env)",
   "language": "python",
   "name": "tf_env"
  },
  "language_info": {
   "codemirror_mode": {
    "name": "ipython",
    "version": 3
   },
   "file_extension": ".py",
   "mimetype": "text/x-python",
   "name": "python",
   "nbconvert_exporter": "python",
   "pygments_lexer": "ipython3",
   "version": "3.10.16"
  }
 },
 "nbformat": 4,
 "nbformat_minor": 5
}
